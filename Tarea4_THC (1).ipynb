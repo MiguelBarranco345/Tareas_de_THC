{
  "nbformat": 4,
  "nbformat_minor": 0,
  "metadata": {
    "colab": {
      "provenance": []
    },
    "kernelspec": {
      "name": "python3",
      "display_name": "Python 3"
    },
    "language_info": {
      "name": "python"
    }
  },
  "cells": [
    {
      "cell_type": "markdown",
      "source": [
        "<font color=\"Red\" face=\"Comic Sans MS,arial\">\n",
        "  <h1 align=\"center\"><i>Tarea 4 de Python </i></h1>\n",
        "  </font>\n",
        "  \n",
        "> Elaborado por:\n",
        "\n",
        "> Miguel Ángel Carrillo Lucía. miguelcarrillo15@ciencias.unam.mx\n",
        "\n",
        "> Jesús Iván Coss Calderón. mat_ing_coss@ciencias.unam.mx"
      ],
      "metadata": {
        "id": "Acw5GbRohNTA"
      }
    },
    {
      "cell_type": "markdown",
      "source": [
        "**Objetivo general**\n",
        "\n",
        "* Demostrar los conocimientos adquiridos de bucles, listas y estructuras de control.\n",
        "\n",
        "**Objetivos particulares**\n",
        "\n",
        "* Aprender a resolver problemas prácticos usando python"
      ],
      "metadata": {
        "id": "-4IW6Nx2jBHt"
      }
    },
    {
      "cell_type": "markdown",
      "source": [
        "#**Ejercicio 1**:\n",
        "Diseña un programa que convierta dólares americanos a pesos mexicanos, euros, libras\n",
        "esterlinas, yuanes y rublos utilizando una tasa de cambio fija. Muestre la tasa de cambio e imprima los cinco resultados.\n"
      ],
      "metadata": {
        "id": "QZ7aCHF0TYtT"
      }
    },
    {
      "cell_type": "code",
      "source": [
        "\n",
        "tasa_peso_mexicano = 18.50\n",
        "tasa_euro = 0.85\n",
        "tasa_libra_esterlina = 0.75\n",
        "tasa_yuan = 6.40\n",
        "tasa_rublo = 73.00\n",
        "cantidad_dolares = float(input(\"Ingresa la cantidad en dólares estadounidenses (USD): \"))\n",
        "\n",
        "pesos_mexicanos = cantidad_dolares * tasa_peso_mexicano\n",
        "euros = cantidad_dolares * tasa_euro\n",
        "libras_esterlinas = cantidad_dolares * tasa_libra_esterlina\n",
        "yuanes = cantidad_dolares * tasa_yuan\n",
        "rublos = cantidad_dolares * tasa_rublo\n",
        "\n",
        "print(\"Resultados de la conversión\")\n",
        "print(\"La cantidad de dolares es igual a\", pesos_mexicanos, \"Pesos mexicanos\" )\n",
        "print(\"La cantidad de dolares es igual a\" ,yuanes, \"yuanes\" )\n",
        "print(\"La cantidad de dolares es igual a\", libras, \"Libras\" )\n",
        "print(\"La cantidad de dolares es igual a\" ,euros, \"Euros\" )\n",
        "print(\"La cantidad de dolares es igual a\" ,rublos, \"Rublos\" )"
      ],
      "metadata": {
        "id": "TBR-3raL8Epc",
        "colab": {
          "base_uri": "https://localhost:8080/"
        },
        "outputId": "dc2101c8-a914-4b94-ff90-dd50b90d20f3"
      },
      "execution_count": 6,
      "outputs": [
        {
          "output_type": "stream",
          "name": "stdout",
          "text": [
            "Ingresa la cantidad en dólares estadounidenses (USD): 2\n",
            "Resultados de la conversión\n",
            "La cantidad de dolares es igual a 37.0 Pesos mexicanos\n",
            "La cantidad de dolares es igual a 12.8 yuanes\n",
            "La cantidad de dolares es igual a 1.5 Libras\n",
            "La cantidad de dolares es igual a 1.7 Euros\n",
            "La cantidad de dolares es igual a 146.0 Rublos\n"
          ]
        }
      ]
    },
    {
      "cell_type": "markdown",
      "source": [
        "#**Ejercicio 2**:\n",
        "Escribe un programa que pida al usuario su edad y clasifique la entrada en 'niño',\n",
        " 'adolescente', 'adulto' o 'adulto mayor'."
      ],
      "metadata": {
        "id": "G-aCihICT7hi"
      }
    },
    {
      "cell_type": "code",
      "source": [
        "edad = int(input(\"Ingresa tu edad: \"))\n",
        "\n",
        "if edad < 13:\n",
        "    clasificacion = \"niño\"\n",
        "elif 13 <= edad < 18:\n",
        "    clasificacion = \"adolescente\"\n",
        "elif 18 <= edad < 65:\n",
        "    clasificacion = \"adulto\"\n",
        "else:\n",
        "    clasificacion = \"adulto mayor\"\n",
        "\n",
        "print(\"Eres un \",clasificacion)\n"
      ],
      "metadata": {
        "id": "LeEsrq4p8FOs",
        "colab": {
          "base_uri": "https://localhost:8080/"
        },
        "outputId": "b233f049-ddf1-495d-be10-7f9eb7804f67"
      },
      "execution_count": 10,
      "outputs": [
        {
          "output_type": "stream",
          "name": "stdout",
          "text": [
            "Ingresa tu edad: 98\n",
            "Eres un  adulto mayor\n"
          ]
        }
      ]
    },
    {
      "cell_type": "markdown",
      "source": [
        "#**Ejercicio 3**:\n",
        "Desarrolla un programa que calcule el precio final de un producto después de aplicar un descuento.\n",
        " El usuario debe ingresar el precio original y el porcentaje de descuento. Imprima el precio final."
      ],
      "metadata": {
        "id": "oM_h9APNTIW9"
      }
    },
    {
      "cell_type": "code",
      "source": [
        "precio_original = float(input(\"Ingresa el precio original del producto: \"))\n",
        "porcentaje_descuento = float(input(\"Ingresa el porcentaje de descuento: \"))\n",
        "\n",
        "\n",
        "descuento = precio_original * (porcentaje_descuento / 100)\n",
        "precio_final = precio_original - descuento\n",
        "\n",
        "print(\"Precio final después del descuento:\",precio_final)\n"
      ],
      "metadata": {
        "id": "ay0KWLXf8F5k",
        "colab": {
          "base_uri": "https://localhost:8080/"
        },
        "outputId": "2cdf04e5-29a1-4eeb-aed9-ce8816069bb7"
      },
      "execution_count": 11,
      "outputs": [
        {
          "output_type": "stream",
          "name": "stdout",
          "text": [
            "Ingresa el precio original del producto: 50\n",
            "Ingresa el porcentaje de descuento: 50\n",
            "Resultado\n",
            "Precio final después del descuento: 25.0\n"
          ]
        }
      ]
    },
    {
      "cell_type": "markdown",
      "source": [
        "#**Ejercicio 4**:\n",
        "Crea un script que determine cuál de tres números introducidos por el usuario es el mayor,\n",
        "usando sentencias IF anidadas o múltiples ELIF."
      ],
      "metadata": {
        "id": "pXTw_US7UIhy"
      }
    },
    {
      "cell_type": "code",
      "source": [
        "numero1 = float(input(\"Ingresa el primer número: \"))\n",
        "numero2 = float(input(\"Ingresa el segundo número: \"))\n",
        "numero3 = float(input(\"Ingresa el tercer número: \"))\n",
        "\n",
        "if numero1 >= numero2 and numero1 >= numero3:\n",
        "    mayor = numero1\n",
        "elif numero2 >= numero1 and numero2 >= numero3:\n",
        "    mayor = numero2\n",
        "else:\n",
        "    mayor = numero3\n",
        "print(\"El número mayor es:\", mayor)\n"
      ],
      "metadata": {
        "id": "oSJXRXBb8Gck",
        "colab": {
          "base_uri": "https://localhost:8080/"
        },
        "outputId": "b256aafb-de63-43c7-e23b-4d17326fc18e"
      },
      "execution_count": 12,
      "outputs": [
        {
          "output_type": "stream",
          "name": "stdout",
          "text": [
            "Ingresa el primer número: 5\n",
            "Ingresa el segundo número: 6\n",
            "Ingresa el tercer número: 3\n",
            "El número mayor es: 6.0\n"
          ]
        }
      ]
    },
    {
      "cell_type": "markdown",
      "source": [
        "#**Ejercicio 5**:\n",
        "Programe una función que resuelva ecuaciones de segundo grado utilizando la fórmula general.\n",
        "El usuario debe ingresar los valores de a, b y c. Genere valores por default por si el usuario no ingresa\n",
        "un número entero o flotante. Además, calcule el valor del discriminante\n",
        "(b^2 - 4ac) y determine si tiene soluciones reales, soluciones complejas. Imprima el resultado."
      ],
      "metadata": {
        "id": "LJgQNYz1Tmaj"
      }
    },
    {
      "cell_type": "code",
      "source": [
        "import cmath\n",
        "\n",
        "def resolver_ecuacion_cuadratica(a=1, b=0, c=0):\n",
        "    try:\n",
        "\n",
        "        a = float(a)\n",
        "        b = float(b)\n",
        "        c = float(c)\n",
        "    except Error:\n",
        "        print(\"Valores inválidos ingresados, se usan valores por defecto: a=1, b=0, c=0\")\n",
        "        a, b, c = 1, 0, 0\n",
        "\n",
        "    discriminante = b**2 - 4 * a * c\n",
        "    print(\" Resultados\" )\n",
        "    print(\"Discriminante (b^2 - 4ac):\", discriminante)\n",
        "\n",
        "    # Determinar el tipo de soluciones\n",
        "    if discriminante > 0:\n",
        "        raiz1 = (-b + cmath.sqrt(discriminante)) / (2 * a)\n",
        "        raiz2 = (-b - cmath.sqrt(discriminante)) / (2 * a)\n",
        "        print(\"La ecuación tiene dos soluciones reales:\")\n",
        "        print(\"x1 =\", raiz1.real)\n",
        "        print(\"x2 =\", raiz2.real)\n",
        "    elif discriminante == 0:\n",
        "        raiz = -b / (2 * a)\n",
        "        print(\"La ecuación tiene una solución real única:\")\n",
        "        print(\"x =\", raiz)\n",
        "    else:\n",
        "        raiz1 = (-b + cmath.sqrt(discriminante)) / (2 * a)\n",
        "        raiz2 = (-b - cmath.sqrt(discriminante)) / (2 * a)\n",
        "        print(\"La ecuación tiene soluciones complejas:\")\n",
        "        print(\"x1 =\", raiz1)\n",
        "        print(\"x2 =\", raiz2)\n",
        "\n",
        "a = input(\"Ingresa el valor de a (predeterminado 1): \") or 1\n",
        "b = input(\"Ingresa el valor de b (predeterminado 0): \") or 0\n",
        "c = input(\"Ingresa el valor de c (predeterminado 0): \") or 0\n",
        "\n",
        "resolver_ecuacion_cuadratica(a, b, c)\n"
      ],
      "metadata": {
        "id": "L1CQPnlC8G9c",
        "colab": {
          "base_uri": "https://localhost:8080/"
        },
        "outputId": "d2a4c6f8-1fe3-4a85-a813-3144f96c810b"
      },
      "execution_count": 13,
      "outputs": [
        {
          "output_type": "stream",
          "name": "stdout",
          "text": [
            "Ingresa el valor de a (predeterminado 1): 2\n",
            "Ingresa el valor de b (predeterminado 0): 4\n",
            "Ingresa el valor de c (predeterminado 0): 5\n",
            " Resultados\n",
            "Discriminante (b^2 - 4ac): -24.0\n",
            "La ecuación tiene soluciones complejas:\n",
            "x1 = (-1+1.224744871391589j)\n",
            "x2 = (-1-1.224744871391589j)\n"
          ]
        }
      ]
    },
    {
      "cell_type": "markdown",
      "source": [
        "#**Ejercicio 6**\n",
        "\n",
        " Escriba una función que reciba una lista de números y devuelva dos listas: una con los números positivos y otra con los negativos."
      ],
      "metadata": {
        "id": "1VC6sG1wix_2"
      }
    },
    {
      "cell_type": "code",
      "source": [
        "def separar_positivos_negativos(numeros):\n",
        "\n",
        "    positivos = []\n",
        "    negativos = []\n",
        "\n",
        "    for num in numeros:\n",
        "        if num > 0:\n",
        "            positivos.append(num)\n",
        "        elif num < 0:\n",
        "            negativos.append(num)\n",
        "\n",
        "    return positivos, negativos\n",
        "\n",
        "entrada = input(\"Ingresa una lista de números separados por espacios: \")\n",
        "numeros = list(map(int, entrada.split()))\n",
        "\n",
        "positivos, negativos = separar_positivos_negativos(numeros)\n",
        "\n",
        "print(\"Números positivos:\", positivos)\n",
        "print(\"Números negativos:\", negativos)\n"
      ],
      "metadata": {
        "id": "j-nKpLKG8HdU",
        "colab": {
          "base_uri": "https://localhost:8080/"
        },
        "outputId": "7cec36cf-3afd-40e4-babd-844cf09a4c41"
      },
      "execution_count": 15,
      "outputs": [
        {
          "output_type": "stream",
          "name": "stdout",
          "text": [
            "Ingresa una lista de números separados por espacios: 2 3 5 -2\n",
            "Números positivos: [2, 3, 5]\n",
            "Números negativos: [-2]\n"
          ]
        }
      ]
    },
    {
      "cell_type": "markdown",
      "source": [
        "#**Ejercicio 7**\n",
        "\n",
        "Escriba una función que reciba una lista de datos (la de abajo) y devuelva listas con los datos filtrados. Este programa debe separar los datos en **int**, **str**, **bool**, **float**. **Hint**: use la función **append** para insertar datos en las listas."
      ],
      "metadata": {
        "id": "B3DOqZgpjxMf"
      }
    },
    {
      "cell_type": "code",
      "source": [
        "Datos= [5, 2.4, \"hola\", 7, 10, 3.14,True,False, \"Hi\", 0, 0.265]# lista a usar"
      ],
      "metadata": {
        "id": "5zQMRLNYis12"
      },
      "execution_count": null,
      "outputs": []
    },
    {
      "cell_type": "code",
      "source": [
        "def separar_por_tipo(datos):\n",
        "\n",
        "    enteros = []\n",
        "    cadenas = []\n",
        "    booleanos = []\n",
        "    flotantes = []\n",
        "\n",
        "    for dato in datos:\n",
        "        if isinstance(dato, int) and not isinstance(dato, bool):\n",
        "            enteros.append(dato)\n",
        "        elif isinstance(dato, str):\n",
        "            cadenas.append(dato)\n",
        "        elif isinstance(dato, bool):\n",
        "            booleanos.append(dato)\n",
        "        elif isinstance(dato, float):\n",
        "            flotantes.append(dato)\n",
        "\n",
        "    return enteros, cadenas, booleanos, flotantes\n",
        "\n",
        "datos = [5, 2.4, \"hola\", 7, 10, 3.14, True, False, \"Hi\", 0, 0.265]\n",
        "\n",
        "enteros, cadenas, booleanos, flotantes = separar_por_tipo(datos)\n",
        "\n",
        "print(\"Enteros:\", enteros)\n",
        "print(\"Cadenas:\", cadenas)\n",
        "print(\"Booleanos:\", booleanos)\n",
        "print(\"Flotantes:\", flotantes)\n"
      ],
      "metadata": {
        "id": "0HH0Debs8Joc",
        "colab": {
          "base_uri": "https://localhost:8080/"
        },
        "outputId": "7dc64d3e-005a-4c57-d481-84dd7ff01309"
      },
      "execution_count": 16,
      "outputs": [
        {
          "output_type": "stream",
          "name": "stdout",
          "text": [
            "Enteros: [5, 7, 10, 0]\n",
            "Cadenas: ['hola', 'Hi']\n",
            "Booleanos: [True, False]\n",
            "Flotantes: [2.4, 3.14, 0.265]\n"
          ]
        }
      ]
    },
    {
      "cell_type": "markdown",
      "source": [
        "#**Ejercicio 8**:\n",
        "\n",
        "Imprimir pirámide de asteriscos\n",
        "Descripción: Crea una función que imprima una pirámide de asteriscos usando bucles anidados, donde el número de niveles de la pirámide sea un valor dado."
      ],
      "metadata": {
        "id": "Q7XYGpfGkuD4"
      }
    },
    {
      "cell_type": "code",
      "source": [
        "def piramide_asteriscos(niveles):\n",
        "\n",
        "piramide_asteriscos(5)\n",
        "# Resultado:\n",
        "# *\n",
        "# **\n",
        "# ***\n",
        "# ****\n",
        "# *****\n"
      ],
      "metadata": {
        "colab": {
          "base_uri": "https://localhost:8080/"
        },
        "id": "lKlZ67KRkXwn",
        "outputId": "78bd0f90-baf8-41bc-9243-ffad50b18531"
      },
      "execution_count": null,
      "outputs": [
        {
          "output_type": "stream",
          "name": "stdout",
          "text": [
            "*\n",
            "**\n",
            "***\n",
            "****\n",
            "*****\n"
          ]
        }
      ]
    },
    {
      "cell_type": "code",
      "source": [
        "def imprimir_piramide(niveles):\n",
        "\n",
        "    for i in range(niveles):\n",
        "        for j in range(niveles - i - 1):\n",
        "            print(\" \", end=\"\")\n",
        "        for k in range(2 * i + 1):\n",
        "            print(\"*\", end=\"\")\n",
        "\n",
        "        print()\n",
        "niveles = int(input(\"Ingresa el número de niveles de la pirámide: \"))\n",
        "imprimir_piramide(niveles)\n",
        "\n",
        "\n",
        "\n"
      ],
      "metadata": {
        "colab": {
          "base_uri": "https://localhost:8080/"
        },
        "id": "DCLICJvPpm_T",
        "outputId": "2a97c06b-9dd0-4f9e-b376-ea364a295dbc"
      },
      "execution_count": 19,
      "outputs": [
        {
          "output_type": "stream",
          "name": "stdout",
          "text": [
            "Ingresa el número de niveles de la pirámide: 3\n",
            "  *\n",
            " ***\n",
            "*****\n"
          ]
        }
      ]
    },
    {
      "cell_type": "markdown",
      "source": [
        "#**Ejercicio 9**:\n",
        "\n",
        "Escriba una función que calcule el factorial de un número, el cual debe ser ingresado por el usuario, después usted debe validar que sea un número natural mayor o igual a cero y en caso de que ingrese un número negativo, una letra o cadena, debe pedir nuevamente el número al usuario."
      ],
      "metadata": {
        "id": "xL6YMsdClOy9"
      }
    },
    {
      "cell_type": "code",
      "source": [
        "def calcular_factorial():\n",
        "    while True:\n",
        "        try:\n",
        "            numero = int(input(\"Introduce un número natural (mayor o igual a 0): \"))\n",
        "            if numero < 0:\n",
        "                print(\"El número debe ser mayor o igual a 0.\")\n",
        "            else:\n",
        "                break\n",
        "        except Error:\n",
        "            print(\"Entrada no válida. Por favor, introduce un número natural.\")\n",
        "\n",
        "    factorial = 1\n",
        "    for i in range(1, numero + 1):\n",
        "        factorial *= i\n",
        "\n",
        "    print(f\"El factorial de {numero} es: {factorial}\")\n",
        "\n",
        "calcular_factorial()\n"
      ],
      "metadata": {
        "id": "JYhyNp21l43j",
        "colab": {
          "base_uri": "https://localhost:8080/"
        },
        "outputId": "6b027d19-0b0c-436d-a41e-9b5a84029cb1"
      },
      "execution_count": 20,
      "outputs": [
        {
          "output_type": "stream",
          "name": "stdout",
          "text": [
            "Introduce un número natural (mayor o igual a 0): 2\n",
            "El factorial de 2 es: 2\n"
          ]
        }
      ]
    },
    {
      "cell_type": "markdown",
      "source": [
        "#**Ejercicio 10**:\n",
        "Programar una función que calcule la distancia entre dos puntos en el plano cartesiano,\n",
        "dadas sus coordenadas (x1, y1) y (x2, y2)."
      ],
      "metadata": {
        "id": "8z6e_aduTxWh"
      }
    },
    {
      "cell_type": "code",
      "source": [
        "import math\n",
        "\n",
        "def calcular_distancia():\n",
        "    try:\n",
        "        x1 = float(input(\"Introduce la coordenada x1: \"))\n",
        "        y1 = float(input(\"Introduce la coordenada y1: \"))\n",
        "        x2 = float(input(\"Introduce la coordenada x2: \"))\n",
        "        y2 = float(input(\"Introduce la coordenada y2: \"))\n",
        "\n",
        "        distancia = math.sqrt((x2 - x1) ** 2 + (y2 - y1) ** 2)\n",
        "        print(f\"La distancia entre los puntos ({x1}, {y1}) y ({x2}, {y2}) es: {distancia:.2f}\")\n",
        "    except ValueError:\n",
        "        print(\"Por favor, introduce solo valores numéricos.\")\n",
        "\n",
        "calcular_distancia()\n",
        "\n"
      ],
      "metadata": {
        "id": "rKes7ySm8LJy",
        "colab": {
          "base_uri": "https://localhost:8080/"
        },
        "outputId": "3c330ad7-ba55-4f59-85d9-0aeb3dbce5b8"
      },
      "execution_count": 22,
      "outputs": [
        {
          "output_type": "stream",
          "name": "stdout",
          "text": [
            "Introduce la coordenada x1: 2\n",
            "Introduce la coordenada y1: 3\n",
            "Introduce la coordenada x2: 5\n",
            "Introduce la coordenada y2: 3\n",
            "La distancia entre los puntos (2.0, 3.0) y (5.0, 3.0) es: 3.00\n"
          ]
        }
      ]
    },
    {
      "cell_type": "markdown",
      "source": [
        "#**Ejercicio 11**:\n",
        "Programe un script que determine si dos rectas dadas por las ecuaciones y1=m1x + b1 y y2=m2x+b2 se\n",
        "intersectan, son paralelas o coincidentes. Utilice estructuras de control (IF - ELSE)\n",
        "para manejar los diferentes casos.\n"
      ],
      "metadata": {
        "id": "YZ1CmeGNUfd6"
      }
    },
    {
      "cell_type": "code",
      "source": [
        "def determinar_relacion_rectas(m1, b1, m2, b2):\n",
        "    if m1 == m2:\n",
        "        if b1 == b2:\n",
        "            print(\"Las rectas son coincidentes.\")\n",
        "        else:\n",
        "            print(\"Las rectas son paralelas.\")\n",
        "    else:\n",
        "        print(\"Las rectas se intersectan.\")\n",
        "try:\n",
        "    m1 = float(input(\"Introduce la pendiente m1 de la primera recta: \"))\n",
        "    b1 = float(input(\"Introduce la ordenada al origen b1 de la primera recta: \"))\n",
        "    m2 = float(input(\"Introduce la pendiente m2 de la segunda recta: \"))\n",
        "    b2 = float(input(\"Introduce la ordenada al origen b2 de la segunda recta: \"))\n",
        "\n",
        "    determinar_relacion_rectas(m1, b1, m2, b2)\n",
        "\n",
        "except Error:\n",
        "    print(\"Por favor, introduce valores numéricos válidos.\")\n"
      ],
      "metadata": {
        "id": "oTNVz98W8LuZ",
        "colab": {
          "base_uri": "https://localhost:8080/"
        },
        "outputId": "1b039043-e23b-4405-f7bc-2efcdb3b6131"
      },
      "execution_count": 24,
      "outputs": [
        {
          "output_type": "stream",
          "name": "stdout",
          "text": [
            "Introduce la pendiente m1 de la primera recta: 3\n",
            "Introduce la ordenada al origen b1 de la primera recta: 3\n",
            "Introduce la pendiente m2 de la segunda recta: 3\n",
            "Introduce la ordenada al origen b2 de la segunda recta: 3\n",
            "Las rectas son coincidentes.\n"
          ]
        }
      ]
    },
    {
      "cell_type": "markdown",
      "source": [
        "#**Ejercicio 12**:\n",
        "Iván y Miguel quieren jugar a los dados con las siguientes reglas:\n",
        "\n",
        "    Si sale 1, vuelven a lanzar.\n",
        "    Si sale 6, quedan empatados.\n",
        "    Si sale 2 ó 3 gana Iván.\n",
        "    Si sale 4 ó 5 gana Miguel.\n",
        "\n",
        "Haga un programa que le permita jugar a Iván y Miguel utilizando el condicional while. Se debe imprimir el mensaje de acuerdo a las reglas establecidas.\n",
        "**Hint** = Utilice la librería random para generar los números aleatorios."
      ],
      "metadata": {
        "id": "qdHirPx6I2ib"
      }
    },
    {
      "cell_type": "code",
      "source": [
        "import random\n",
        "\n",
        "def lanzar_dado():\n",
        "    return random.randint(1, 6)\n",
        "\n",
        "def juego():\n",
        "    while True:\n",
        "        resultado = lanzar_dado()\n",
        "        print(f\"Resultado del dado: {resultado}\")\n",
        "\n",
        "        if resultado == 1:\n",
        "            print(\"Salió 1. Lanza de nuevo.\")\n",
        "            continue\n",
        "        elif resultado == 6:\n",
        "            print(\"Empate.\")\n",
        "            break\n",
        "        elif resultado == 2 or resultado == 3:\n",
        "            print(\"Iván gana.\")\n",
        "            break\n",
        "        elif resultado == 4 or resultado == 5:\n",
        "            print(\"Miguel gana.\")\n",
        "            break\n",
        "\n",
        "juego()\n"
      ],
      "metadata": {
        "id": "dDHP_-CG8Nqg"
      },
      "execution_count": null,
      "outputs": []
    }
  ]
}